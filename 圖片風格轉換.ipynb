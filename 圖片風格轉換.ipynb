{
  "nbformat": 4,
  "nbformat_minor": 0,
  "metadata": {
    "colab": {
      "name": "圖片風格轉換.ipynb",
      "private_outputs": true,
      "provenance": [],
      "authorship_tag": "ABX9TyM1saPheH2BQjnsYCtF/p3i",
      "include_colab_link": true
    },
    "kernelspec": {
      "name": "python3",
      "display_name": "Python 3"
    }
  },
  "cells": [
    {
      "cell_type": "markdown",
      "metadata": {
        "id": "view-in-github",
        "colab_type": "text"
      },
      "source": [
        "<a href=\"https://colab.research.google.com/github/4060e059/funnyimage/blob/main/%E5%9C%96%E7%89%87%E9%A2%A8%E6%A0%BC%E8%BD%89%E6%8F%9B.ipynb\" target=\"_parent\"><img src=\"https://colab.research.google.com/assets/colab-badge.svg\" alt=\"Open In Colab\"/></a>"
      ]
    },
    {
      "cell_type": "code",
      "metadata": {
        "id": "KNVrrsK-YJVs"
      },
      "source": [
        "import os\r\n",
        "import tensorflow as tf\r\n",
        "# Load compressed models from tensorflow_hub\r\n",
        "os.environ['TFHUB_MODEL_LOAD_FORMAT'] = 'COMPRESSED'\r\n",
        "import IPython.display as display\r\n",
        "\r\n",
        "import matplotlib.pyplot as plt\r\n",
        "import matplotlib as mpl\r\n",
        "mpl.rcParams['figure.figsize'] = (12,12)\r\n",
        "mpl.rcParams['axes.grid'] = False\r\n",
        "import numpy as np\r\n",
        "import PIL.Image\r\n",
        "import time\r\n",
        "import functools"
      ],
      "execution_count": null,
      "outputs": []
    },
    {
      "cell_type": "code",
      "metadata": {
        "id": "hA275RTAYLx-"
      },
      "source": [
        "def tensor_to_image(tensor):\r\n",
        "  tensor = tensor*255\r\n",
        "  tensor = np.array(tensor, dtype=np.uint8)\r\n",
        "  if np.ndim(tensor)>3:\r\n",
        "    assert tensor.shape[0] == 1\r\n",
        "    tensor = tensor[0]\r\n",
        "  return PIL.Image.fromarray(tensor)"
      ],
      "execution_count": null,
      "outputs": []
    },
    {
      "cell_type": "code",
      "metadata": {
        "id": "ylT3u3EXYO-V"
      },
      "source": [
        "def load_img(path_to_img):\r\n",
        "  max_dim = 512\r\n",
        "  img = tf.io.read_file(path_to_img)\r\n",
        "  img = tf.image.decode_image(img, channels=3)\r\n",
        "  img = tf.image.convert_image_dtype(img, tf.float32)\r\n",
        "\r\n",
        "  shape = tf.cast(tf.shape(img)[:-1], tf.float32)\r\n",
        "  long_dim = max(shape)\r\n",
        "  scale = max_dim / long_dim\r\n",
        "\r\n",
        "  new_shape = tf.cast(shape * scale, tf.int32)\r\n",
        "\r\n",
        "  img = tf.image.resize(img, new_shape)\r\n",
        "  img = img[tf.newaxis, :]\r\n",
        "  return img"
      ],
      "execution_count": null,
      "outputs": []
    },
    {
      "cell_type": "code",
      "metadata": {
        "id": "FVIGkVDnYRCd"
      },
      "source": [
        "def imshow(image, title=None):\r\n",
        "  if len(image.shape) > 3:\r\n",
        "    image = tf.squeeze(image, axis=0)\r\n",
        "\r\n",
        "  plt.imshow(image)\r\n",
        "  if title:\r\n",
        "    plt.title(title)"
      ],
      "execution_count": null,
      "outputs": []
    },
    {
      "cell_type": "code",
      "metadata": {
        "id": "uLVhrFEIYS1N"
      },
      "source": [
        "\r\n",
        "# 設定你的照片\r\n",
        "cpathname=\"myphoto4\"#@param {type: \"string\"}\r\n",
        "cpath=\"https://raw.githubusercontent.com/4060e059/image/main/IMAG011.jpg\"#@param {type: \"string\"}\r\n",
        "#cpath=\"https://storage.googleapis.com/download.tensorflow.org/example_images/YellowLabradorLooking_new.jpg\"#@param {type: \"string\"}\r\n",
        "\r\n",
        "# 設定要使用的藝術家風格\r\n",
        "spathname=\"mystylephoto4\"#@param {type: \"string\"}\r\n",
        "spath=\"https://storage.googleapis.com/download.tensorflow.org/example_images/Vassily_Kandinsky%2C_1913_-_Composition_7.jpg\"#@param {type: \"string\"}\r\n",
        "\r\n",
        "# 設定\r\n",
        "content_path = tf.keras.utils.get_file(cpathname, cpath)\r\n",
        "style_path = tf.keras.utils.get_file(spathname,spath)\r\n",
        "#範例圖片:  https://storage.googleapis.com/download.tensorflow.org/example_images/YellowLabradorLooking_new.jpg\r\n",
        "#範例圖片:  https://pic.pimg.tw/volvo2266/1483538279-633293117.jpg"
      ],
      "execution_count": null,
      "outputs": []
    },
    {
      "cell_type": "code",
      "metadata": {
        "id": "FMjw88KgYY7F"
      },
      "source": [
        "content_image = load_img(content_path)\r\n",
        "style_image = load_img(style_path)\r\n",
        "\r\n",
        "plt.subplot(1, 2, 1)\r\n",
        "imshow(content_image, 'Content Image')\r\n",
        "\r\n",
        "plt.subplot(1, 2, 2)\r\n",
        "imshow(style_image, 'Style Image')"
      ],
      "execution_count": null,
      "outputs": []
    },
    {
      "cell_type": "code",
      "metadata": {
        "id": "lazL-oAiYbfV"
      },
      "source": [
        "\r\n",
        "# 使用Tensorflow HUB 進行 Transfer Learning(遷移學習)\r\n",
        "import tensorflow_hub as hub\r\n",
        "\r\n",
        "hub_model = hub.load('https://tfhub.dev/google/magenta/arbitrary-image-stylization-v1-256/2')\r\n",
        "stylized_image = hub_model(tf.constant(content_image), tf.constant(style_image))[0]\r\n",
        "\r\n",
        "#顯示最後成果\r\n",
        "tensor_to_image(stylized_image)"
      ],
      "execution_count": null,
      "outputs": []
    }
  ]
}